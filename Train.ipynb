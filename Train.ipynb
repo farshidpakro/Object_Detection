{
 "cells": [
  {
   "cell_type": "code",
   "execution_count": 1,
   "metadata": {},
   "outputs": [],
   "source": [
    "import object_detection\n",
    "\n",
    "\n"
   ]
  },
  {
   "cell_type": "code",
   "execution_count": 3,
   "metadata": {},
   "outputs": [],
   "source": [
    "labels = [{'name':'ThumbsUp', 'id':1}]\n",
    "\n",
    "with open(r'label\\label_map.pbtxt', 'w') as f:\n",
    "    for label in labels:\n",
    "        f.write('item { \\n')\n",
    "        f.write('\\tname:\\'{}\\'\\n'.format(label['name']))\n",
    "        f.write('\\tid:{}\\n'.format(label['id']))\n",
    "        f.write('}\\n')"
   ]
  },
  {
   "cell_type": "markdown",
   "metadata": {},
   "source": [
    " python generate_tfrecord.py -x 'CV_pic' -l '.\\label_map\\label_map.pbtxt' -o  'train\\train.record'       \n",
    " python generate_tfrecord.py -x '.\\CV_Pic_Test\\' -l '.\\label_map\\label_map.pbtxt' -o  'test\\test.record'"
   ]
  },
  {
   "cell_type": "code",
   "execution_count": 19,
   "metadata": {},
   "outputs": [
    {
     "name": "stderr",
     "output_type": "stream",
     "text": [
      "2023-12-20 20:12:38.119113: I tensorflow/core/util/port.cc:113] oneDNN custom operations are on. You may see slightly different numerical results due to floating-point round-off errors from different computation orders. To turn them off, set the environment variable `TF_ENABLE_ONEDNN_OPTS=0`.\n",
      "WARNING:tensorflow:From c:\\Users\\farshid\\AppData\\Local\\Programs\\Python\\Python311\\Lib\\site-packages\\keras\\src\\losses.py:2976: The name tf.losses.sparse_softmax_cross_entropy is deprecated. Please use tf.compat.v1.losses.sparse_softmax_cross_entropy instead.\n",
      "\n",
      "WARNING:tensorflow:From C:\\\\Program Files\\\\Tensorflow\\\\models\\\\research\\\\object_detection\\\\model_main_tf2.py:114: The name tf.app.run is deprecated. Please use tf.compat.v1.app.run instead.\n",
      "\n",
      "[12/20 20:12:41] tensorflow WARNING: From C:\\\\Program Files\\\\Tensorflow\\\\models\\\\research\\\\object_detection\\\\model_main_tf2.py:114: The name tf.app.run is deprecated. Please use tf.compat.v1.app.run instead.\n",
      "\n",
      "2023-12-20 20:12:41.792382: I tensorflow/core/platform/cpu_feature_guard.cc:182] This TensorFlow binary is optimized to use available CPU instructions in performance-critical operations.\n",
      "To enable the following instructions: SSE SSE2 SSE3 SSE4.1 SSE4.2 AVX2 AVX_VNNI FMA, in other operations, rebuild TensorFlow with the appropriate compiler flags.\n",
      "INFO:tensorflow:Using MirroredStrategy with devices ('/job:localhost/replica:0/task:0/device:CPU:0',)\n",
      "I1220 20:12:41.791350  4548 mirrored_strategy.py:423] Using MirroredStrategy with devices ('/job:localhost/replica:0/task:0/device:CPU:0',)\n",
      "WARNING:tensorflow:From c:\\Users\\farshid\\AppData\\Local\\Programs\\Python\\Python311\\Lib\\site-packages\\object_detection\\utils\\config_util.py:137: The name tf.gfile.GFile is deprecated. Please use tf.io.gfile.GFile instead.\n",
      "\n",
      "W1220 20:12:41.954831  4548 module_wrapper.py:149] From c:\\Users\\farshid\\AppData\\Local\\Programs\\Python\\Python311\\Lib\\site-packages\\object_detection\\utils\\config_util.py:137: The name tf.gfile.GFile is deprecated. Please use tf.io.gfile.GFile instead.\n",
      "\n",
      "2023-12-20 20:12:41.959982: E external/local_tsl/tsl/platform/windows/windows_file_system.cc:363] ERROR: GetSymbolicLinkTarget cannot open file for \\\\?\\�䦾> GetLastError: 2\n",
      "\n",
      "Traceback (most recent call last):\n",
      "  File \"C:\\\\Program Files\\\\Tensorflow\\\\models\\\\research\\\\object_detection\\\\model_main_tf2.py\", line 114, in <module>\n",
      "    tf.compat.v1.app.run()\n",
      "  File \"c:\\Users\\farshid\\AppData\\Local\\Programs\\Python\\Python311\\Lib\\site-packages\\tensorflow\\python\\platform\\app.py\", line 36, in run\n",
      "    _run(main=main, argv=argv, flags_parser=_parse_flags_tolerate_undef)\n",
      "  File \"c:\\Users\\farshid\\AppData\\Local\\Programs\\Python\\Python311\\Lib\\site-packages\\absl\\app.py\", line 308, in run\n",
      "    _run_main(main, args)\n",
      "  File \"c:\\Users\\farshid\\AppData\\Local\\Programs\\Python\\Python311\\Lib\\site-packages\\absl\\app.py\", line 254, in _run_main\n",
      "    sys.exit(main(argv))\n",
      "             ^^^^^^^^^^\n",
      "  File \"C:\\\\Program Files\\\\Tensorflow\\\\models\\\\research\\\\object_detection\\\\model_main_tf2.py\", line 105, in main\n",
      "    model_lib_v2.train_loop(\n",
      "  File \"c:\\Users\\farshid\\AppData\\Local\\Programs\\Python\\Python311\\Lib\\site-packages\\object_detection\\model_lib_v2.py\", line 505, in train_loop\n",
      "    configs = get_configs_from_pipeline_file(\n",
      "              ^^^^^^^^^^^^^^^^^^^^^^^^^^^^^^^\n",
      "  File \"c:\\Users\\farshid\\AppData\\Local\\Programs\\Python\\Python311\\Lib\\site-packages\\object_detection\\utils\\config_util.py\", line 138, in get_configs_from_pipeline_file\n",
      "    proto_str = f.read()\n",
      "                ^^^^^^^^\n",
      "  File \"c:\\Users\\farshid\\AppData\\Local\\Programs\\Python\\Python311\\Lib\\site-packages\\tensorflow\\python\\lib\\io\\file_io.py\", line 116, in read\n",
      "    self._preread_check()\n",
      "  File \"c:\\Users\\farshid\\AppData\\Local\\Programs\\Python\\Python311\\Lib\\site-packages\\tensorflow\\python\\lib\\io\\file_io.py\", line 77, in _preread_check\n",
      "    self._read_buf = _pywrap_file_io.BufferedInputStream(\n",
      "                     ^^^^^^^^^^^^^^^^^^^^^^^^^^^^^^^^^^^^\n",
      "tensorflow.python.framework.errors_impl.NotFoundError: NewRandomAccessFile failed to Create/Open:  : The system cannot find the file specified.\n",
      "\n",
      "; No such file or directory\n"
     ]
    }
   ],
   "source": [
    "!python \"C:\\Program Files\\Tensorflow\\models\\research\\object_detection\\model_main_tf2.py\" --model_dir=\"C:\\Users\\farshid\\Desktop\\Object_Detection\\Custom_Model\" --pipeline_config_path=\"C:\\Users\\farshid\\Desktop\\Object_Detection\\ssd_mobilenet_v2_fpnlite_320x320_coco17_tpu-8\\pipeline.config\" --num_train_steps=2000\n"
   ]
  }
 ],
 "metadata": {
  "kernelspec": {
   "display_name": "Python 3",
   "language": "python",
   "name": "python3"
  },
  "language_info": {
   "codemirror_mode": {
    "name": "ipython",
    "version": 3
   },
   "file_extension": ".py",
   "mimetype": "text/x-python",
   "name": "python",
   "nbconvert_exporter": "python",
   "pygments_lexer": "ipython3",
   "version": "3.11.4"
  }
 },
 "nbformat": 4,
 "nbformat_minor": 2
}
