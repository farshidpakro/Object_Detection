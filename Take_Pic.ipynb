{
 "cells": [
  {
   "cell_type": "code",
   "execution_count": 5,
   "metadata": {},
   "outputs": [],
   "source": [
    "# Import opencv\n",
    "import cv2 \n",
    "\n",
    "# Import uuid\n",
    "import uuid\n",
    "\n",
    "# Import Operating System\n",
    "import os\n",
    "\n",
    "# Import time\n",
    "import time\n",
    "lable = 'thumbsup'\n",
    "IMAGES_PATH = r'C:\\Users\\farshid\\Desktop\\Object_Detection\\CV_Pic'"
   ]
  },
  {
   "cell_type": "code",
   "execution_count": 6,
   "metadata": {},
   "outputs": [
    {
     "name": "stdout",
     "output_type": "stream",
     "text": [
      "Collecting images for thumbsup\n",
      "Collecting image 0\n",
      "C:\\Users\\farshid\\Desktop\\Object_Detection\\CV_Pic_Test\\thumbsup.2ba29cc8-9ff3-11ee-afa6-581122b00520.jpg\n",
      "Collecting image 1\n",
      "C:\\Users\\farshid\\Desktop\\Object_Detection\\CV_Pic_Test\\thumbsup.2cd66a03-9ff3-11ee-bc4a-581122b00520.jpg\n",
      "Collecting image 2\n",
      "C:\\Users\\farshid\\Desktop\\Object_Detection\\CV_Pic_Test\\thumbsup.2e099096-9ff3-11ee-a71b-581122b00520.jpg\n",
      "Collecting image 3\n",
      "C:\\Users\\farshid\\Desktop\\Object_Detection\\CV_Pic_Test\\thumbsup.2f3ce17a-9ff3-11ee-a6e7-581122b00520.jpg\n",
      "Collecting image 4\n",
      "C:\\Users\\farshid\\Desktop\\Object_Detection\\CV_Pic_Test\\thumbsup.30704cb0-9ff3-11ee-aebd-581122b00520.jpg\n"
     ]
    }
   ],
   "source": [
    "cap = cv2.VideoCapture(0)\n",
    "print('Collecting images for {}'.format(lable))\n",
    "time.sleep(5)\n",
    "for imgnum in range(5):\n",
    "    print('Collecting image {}'.format(imgnum))\n",
    "    ret, frame = cap.read()\n",
    "    imgname = os.path.join(IMAGES_PATH,lable+'.'+'{}.jpg'.format(str(uuid.uuid1())))\n",
    "    print (imgname)\n",
    "    cv2.imwrite(imgname, frame)\n",
    "    cv2.imshow('frame', frame)\n",
    "    time.sleep(2)\n",
    "\n",
    "    if cv2.waitKey(1) & 0xFF == ord('q'):\n",
    "        break\n",
    "\n",
    "cap.release()\n",
    "cv2.destroyAllWindows()"
   ]
  }
 ],
 "metadata": {
  "kernelspec": {
   "display_name": "Python 3",
   "language": "python",
   "name": "python3"
  },
  "language_info": {
   "codemirror_mode": {
    "name": "ipython",
    "version": 3
   },
   "file_extension": ".py",
   "mimetype": "text/x-python",
   "name": "python",
   "nbconvert_exporter": "python",
   "pygments_lexer": "ipython3",
   "version": "3.11.4"
  }
 },
 "nbformat": 4,
 "nbformat_minor": 2
}
